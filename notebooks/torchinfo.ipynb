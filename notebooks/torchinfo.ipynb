{
 "cells": [
  {
   "cell_type": "markdown",
   "metadata": {},
   "source": [
    "## Setup"
   ]
  },
  {
   "cell_type": "code",
   "execution_count": 1,
   "metadata": {},
   "outputs": [
    {
     "name": "stdout",
     "output_type": "stream",
     "text": [
      "/Users/jason/repos/diffusion-motion-inbetweening\n"
     ]
    }
   ],
   "source": [
    "%cd .."
   ]
  },
  {
   "cell_type": "code",
   "execution_count": 2,
   "metadata": {},
   "outputs": [
    {
     "name": "stderr",
     "output_type": "stream",
     "text": [
      "/Users/jason/repos/diffusion-motion-inbetweening/data_loaders/humanml/common/skeleton.py:2: UserWarning: A NumPy version >=1.22.4 and <2.3.0 is required for this version of SciPy (detected version 1.21.5)\n",
      "  import scipy.ndimage.filters as filters\n"
     ]
    }
   ],
   "source": [
    "import os\n",
    "\n",
    "import torch\n",
    "from torchinfo import summary\n",
    "\n",
    "from data_loaders.get_data import DatasetConfig, get_dataset_loader\n",
    "from model.cfg_sampler import ClassifierFreeSampleModel\n",
    "from utils import dist_util\n",
    "from utils.model_util import create_model_and_diffusion, load_saved_model"
   ]
  },
  {
   "cell_type": "code",
   "execution_count": 3,
   "metadata": {},
   "outputs": [],
   "source": [
    "from argparse import Namespace\n",
    "\n",
    "# Dumped from a previous run\n",
    "args = Namespace(\n",
    "    edit_mode=\"benchmark_sparse\",\n",
    "    transition_length=20,\n",
    "    n_keyframes=5,\n",
    "    editable_features=\"pos_rot_vel\",\n",
    "    text_condition=\"\",\n",
    "    imputate=False,\n",
    "    replacement_distribution=\"conditional\",\n",
    "    reconstruction_guidance=False,\n",
    "    reconstruction_weight=5.0,\n",
    "    gradient_schedule=None,\n",
    "    cutoff_point=0,\n",
    "    stop_imputation_at=0,\n",
    "    stop_recguidance_at=0,\n",
    "    use_fixed_dataset=False,\n",
    "    use_fixed_subset=False,\n",
    "    no_text=False,\n",
    "    motion_length=11.2,\n",
    "    motion_length_cut=6.0,\n",
    "    input_text=\"\",\n",
    "    action_file=\"\",\n",
    "    text_prompt=\"\",\n",
    "    action_name=\"\",\n",
    "    model_path=\"./save/condmdi_random_frames/model000750000.pt\",\n",
    "    output_dir=\"\",\n",
    "    num_samples=10,\n",
    "    num_repetitions=3,\n",
    "    guidance_param=2.5,\n",
    "    keyframe_guidance_param=1.0,\n",
    "    save_dir=\"save/nm4d9951\",\n",
    "    overwrite=False,\n",
    "    batch_size=64,\n",
    "    train_platform_type=\"NoPlatform\",\n",
    "    lr=0.0001,\n",
    "    weight_decay=0.01,\n",
    "    grad_clip=1.0,\n",
    "    use_fp16=True,\n",
    "    avg_model_beta=0.9999,\n",
    "    adam_beta2=0.999,\n",
    "    lr_anneal_steps=0,\n",
    "    eval_batch_size=32,\n",
    "    eval_split=\"test\",\n",
    "    eval_during_training=False,\n",
    "    eval_rep_times=3,\n",
    "    eval_num_samples=1000,\n",
    "    log_interval=1000,\n",
    "    save_interval=50000,\n",
    "    num_steps=3000000,\n",
    "    num_frames=224,\n",
    "    resume_checkpoint=\"save/nm4d9951/model000850000.pt\",\n",
    "    apply_zero_mask=False,\n",
    "    traj_extra_weight=1.0,\n",
    "    time_weighted_loss=False,\n",
    "    train_x0_as_eps=False,\n",
    "    noise_schedule=\"cosine\",\n",
    "    diffusion_steps=1000,\n",
    "    sigma_small=True,\n",
    "    predict_xstart=True,\n",
    "    use_ddim=False,\n",
    "    clip_range=6.0,\n",
    "    arch=\"unet\",\n",
    "    emb_trans_dec=False,\n",
    "    layers=8,\n",
    "    latent_dim=512,\n",
    "    ff_size=1024,\n",
    "    dim_mults=[2, 2, 2, 2],\n",
    "    unet_adagn=True,\n",
    "    unet_zero=True,\n",
    "    out_mult=False,\n",
    "    cond_mask_prob=0.1,\n",
    "    keyframe_mask_prob=0.1,\n",
    "    lambda_rcxyz=0.0,\n",
    "    lambda_vel=0.0,\n",
    "    lambda_fc=0.0,\n",
    "    unconstrained=False,\n",
    "    keyframe_conditioned=True,\n",
    "    keyframe_selection_scheme=\"random_frames\",\n",
    "    zero_keyframe_loss=False,\n",
    "    dataset=\"humanml\",\n",
    "    data_dir=\"\",\n",
    "    abs_3d=True,\n",
    "    traj_only=False,\n",
    "    xz_only=False,\n",
    "    use_random_proj=False,\n",
    "    random_proj_scale=10.0,\n",
    "    augment_type=\"none\",\n",
    "    std_scale_shift=[1.0, 0.0],\n",
    "    drop_redundant=False,\n",
    "    cuda=True,\n",
    "    device=0,\n",
    "    seed=10,\n",
    ")"
   ]
  },
  {
   "cell_type": "code",
   "execution_count": 4,
   "metadata": {},
   "outputs": [],
   "source": [
    "def load_dataset(args, max_frames, split=\"test\", num_workers=1):\n",
    "    conf = DatasetConfig(\n",
    "        name=args.dataset,\n",
    "        batch_size=args.batch_size,\n",
    "        num_frames=max_frames,\n",
    "        split=split,\n",
    "        hml_mode=\"train\",  # in train mode, you get both text and motion.\n",
    "        use_abs3d=args.abs_3d,\n",
    "        traject_only=args.traj_only,\n",
    "        use_random_projection=args.use_random_proj,\n",
    "        random_projection_scale=args.random_proj_scale,\n",
    "        augment_type=\"none\",\n",
    "        std_scale_shift=args.std_scale_shift,\n",
    "        drop_redundant=args.drop_redundant,\n",
    "    )\n",
    "    data = get_dataset_loader(conf, num_workers=num_workers)\n",
    "    return data"
   ]
  },
  {
   "cell_type": "code",
   "execution_count": 5,
   "metadata": {},
   "outputs": [
    {
     "name": "stdout",
     "output_type": "stream",
     "text": [
      "Loading dataset...\n",
      "Reading ././dataset/humanml_opt.txt\n",
      "WARNING: max_motion_length is set to 196\n",
      "Loading dataset t2m ...\n",
      "mode = train\n",
      "t2m dataset aug: none std_scale_shift: [1.0, 0.0]\n",
      "t2m dataset drop redundant information: False\n"
     ]
    },
    {
     "name": "stderr",
     "output_type": "stream",
     "text": [
      "100%|██████████| 4384/4384 [00:03<00:00, 1448.31it/s]\n"
     ]
    },
    {
     "name": "stdout",
     "output_type": "stream",
     "text": [
      "Pointer Pointing at 0\n",
      "Creating model and diffusion...\n",
      "Using UNET with lantent dim:  512  and mults:  [2, 2, 2, 2]\n",
      "dims:  [263, 1024, 1024, 1024, 1024] mults:  [2, 2, 2, 2]\n",
      "[ models/temporal ] Channel dimensions: [(263, 1024), (1024, 1024), (1024, 1024), (1024, 1024)]\n",
      "EMBED TEXT\n",
      "Loading CLIP...\n"
     ]
    },
    {
     "name": "stderr",
     "output_type": "stream",
     "text": [
      "<frozen importlib._bootstrap>:228: RuntimeWarning: scipy._lib.messagestream.MessageStream size changed, may indicate binary incompatibility. Expected 56 from C header, got 64 from PyObject\n"
     ]
    },
    {
     "name": "stdout",
     "output_type": "stream",
     "text": [
      "Loading checkpoints from [./save/condmdi_random_frames/model000750000.pt]...\n",
      "loading avg model\n",
      "Model ready\n"
     ]
    }
   ],
   "source": [
    "###########################################################################\n",
    "# * Build Output Path\n",
    "###########################################################################\n",
    "\n",
    "max_frames = 196\n",
    "\n",
    "###########################################################################\n",
    "# * Prepare Text/Action Prompts\n",
    "###########################################################################\n",
    "\n",
    "# this block must be called BEFORE the dataset is loaded\n",
    "use_test_set_prompts = False\n",
    "if args.text_prompt != \"\":\n",
    "    texts = [args.text_prompt]\n",
    "    args.num_samples = 1\n",
    "elif args.input_text != \"\":\n",
    "    assert os.path.exists(args.input_text)\n",
    "    with open(args.input_text, \"r\") as fr:\n",
    "        texts = fr.readlines()\n",
    "    texts = [s.replace(\"\\n\", \"\") for s in texts]\n",
    "    args.num_samples = len(texts)\n",
    "elif args.action_name:\n",
    "    action_text = [args.action_name]\n",
    "    args.num_samples = 1\n",
    "elif args.action_file != \"\":\n",
    "    assert os.path.exists(args.action_file)\n",
    "    with open(args.action_file, \"r\") as fr:\n",
    "        action_text = fr.readlines()\n",
    "    action_text = [s.replace(\"\\n\", \"\") for s in action_text]\n",
    "    args.num_samples = len(action_text)\n",
    "elif args.no_text:\n",
    "    texts = [\"\"] * args.num_samples\n",
    "    args.guidance_param = 0.0  # Force unconditioned generation # TODO: This is part of inbetween.py --> Will I need it here?\n",
    "else:\n",
    "    # use text from the test set\n",
    "    use_test_set_prompts = True\n",
    "\n",
    "###########################################################################\n",
    "# * Load Dataset and Model\n",
    "###########################################################################\n",
    "\n",
    "print(\"Loading dataset...\")\n",
    "assert (\n",
    "    args.num_samples <= args.batch_size\n",
    "), f\"Please either increase batch_size({args.batch_size}) or reduce num_samples({args.num_samples})\"\n",
    "# So why do we need this check? In order to protect GPU from a memory overload in the following line.\n",
    "# If your GPU can handle batch size larger then default, you can specify it through --batch_size flag.\n",
    "# If it doesn't, and you still want to sample more prompts, run this script with different seeds\n",
    "# (specify through the --seed flag)\n",
    "args.batch_size = (\n",
    "    args.num_samples\n",
    ")  # Sampling a single batch from the testset, with exactly args.num_samples\n",
    "split = \"fixed_subset\" if args.use_fixed_subset else \"test\"\n",
    "# returns a DataLoader with the Text2MotionDatasetV2 dataset\n",
    "data = load_dataset(args, max_frames, split=split)\n",
    "\n",
    "\n",
    "print(\"Creating model and diffusion...\")\n",
    "model, diffusion = create_model_and_diffusion(args, data)\n",
    "\n",
    "###########################################################################\n",
    "# * Load Model Checkpoint\n",
    "###########################################################################\n",
    "\n",
    "print(f\"Loading checkpoints from [{args.model_path}]...\")\n",
    "load_saved_model(model, args.model_path)  # , use_avg_model=args.gen_avg_model)\n",
    "if args.guidance_param != 1 and args.keyframe_guidance_param != 1:\n",
    "    raise NotImplementedError(\"Classifier-free sampling for keyframes not implemented.\")\n",
    "elif args.guidance_param != 1:\n",
    "    model = ClassifierFreeSampleModel(\n",
    "        model\n",
    "    )  # wrapping model with the classifier-free sampler\n",
    "model.to(dist_util.dev())\n",
    "model.eval()  # disable random masking\n",
    "\n",
    "print(\"Model ready\")"
   ]
  },
  {
   "cell_type": "markdown",
   "metadata": {},
   "source": [
    "## Full Model Summary (`MDM_UNET`)\n",
    "\n",
    "- `n_frames=196` gets right-padded to `224` to be a multiple of `16`\n"
   ]
  },
  {
   "cell_type": "code",
   "execution_count": 23,
   "metadata": {},
   "outputs": [
    {
     "data": {
      "text/plain": [
       "=======================================================================================================================================\n",
       "Layer (type (var_name))                                 Input Shape          Output Shape         Param #              Trainable\n",
       "=======================================================================================================================================\n",
       "MDM_UNET (MDM_UNET)                                     [2, 263, 1, 196]     [2, 263, 1, 196]     --                   Partial\n",
       "├─TimestepEmbedder (embed_timestep)                     [2]                  [1, 2, 512]          --                   True\n",
       "│    └─Sequential (time_embed)                          [2, 1, 512]          [2, 1, 512]          525,312              True\n",
       "├─CLIP (clip_model)                                     --                   --                   88,150,785           False\n",
       "│    └─Embedding (token_embedding)                      [1, 77]              [1, 77, 512]         (25,296,896)         False\n",
       "│    └─Transformer (transformer)                        [77, 1, 512]         [77, 1, 512]         (37,828,608)         False\n",
       "│    └─LayerNorm (ln_final)                             [1, 77, 512]         [1, 77, 512]         (1,024)              False\n",
       "├─Linear (embed_text)                                   [1, 512]             [1, 512]             262,656              True\n",
       "├─TemporalUnet (unet)                                   [224, 2, 526]        [224, 2, 263]        --                   True\n",
       "│    └─Sequential (time_mlp)                            [2, 512]             [2, 512]             2,099,712            True\n",
       "│    └─ModuleList (downs)                               --                   --                   99,770,368           True\n",
       "│    └─ResidualTemporalBlock (mid_block1)               [2, 1024, 28]        [2, 1024, 28]        11,542,528           True\n",
       "│    └─Identity (mid_attn)                              [2, 1024, 28]        [2, 1024, 28]        --                   --\n",
       "│    └─ResidualTemporalBlock (mid_block2)               [2, 1024, 28]        [2, 1024, 28]        11,542,528           True\n",
       "│    └─ModuleList (ups)                                 --                   --                   103,864,320          True\n",
       "│    └─Sequential (final_conv)                          [2, 1024, 224]       [2, 263, 224]        5,515,527            True\n",
       "=======================================================================================================================================\n",
       "Total params: 386,400,264\n",
       "Trainable params: 235,122,951\n",
       "Non-trainable params: 151,277,313\n",
       "Total mult-adds (G): 37.99\n",
       "=======================================================================================================================================\n",
       "Input size (MB): 0.41\n",
       "Forward/backward pass size (MB): 123.51\n",
       "Params size (MB): 1092.17\n",
       "Estimated Total Size (MB): 1216.10\n",
       "======================================================================================================================================="
      ]
     },
     "execution_count": 23,
     "metadata": {},
     "output_type": "execute_result"
    }
   ],
   "source": [
    "size = (2, 263, 1, 196)\n",
    "timesteps = torch.ones(size[0], dtype=torch.int)\n",
    "obs_x0 = torch.zeros(size, dtype=torch.float16)\n",
    "obs_mask = torch.ones(size, dtype=torch.bool)\n",
    "y = {\n",
    "    \"text\": [\"lorem testum\"],\n",
    "}\n",
    "\n",
    "summary(\n",
    "    model=model.model,\n",
    "    device=\"mps\",\n",
    "    input_size=size,\n",
    "    col_names=[\"input_size\", \"output_size\", \"num_params\", \"trainable\"],\n",
    "    col_width=20,\n",
    "    row_settings=[\"var_names\"],\n",
    "    depth=2,\n",
    "    #### extra model forward kwargs ####\n",
    "    timesteps=timesteps,\n",
    "    obs_x0=obs_x0,\n",
    "    obs_mask=obs_mask,\n",
    "    y=y,\n",
    ")"
   ]
  },
  {
   "cell_type": "markdown",
   "metadata": {},
   "source": [
    "## Only the `TemporalUNet` Module\n",
    "- HYPOTHESIS: motion vectors and masks are concatenated -> `2 * 263 = 526` "
   ]
  },
  {
   "cell_type": "code",
   "execution_count": 34,
   "metadata": {},
   "outputs": [
    {
     "data": {
      "text/plain": [
       "==================================================================================================================================\n",
       "Layer (type (var_name))                            Input Shape          Output Shape         Param #              Trainable\n",
       "==================================================================================================================================\n",
       "TemporalUnet (TemporalUnet)                        [224, 2, 526]        [224, 2, 263]        --                   True\n",
       "├─Sequential (time_mlp)                            [2, 512]             [2, 512]             --                   True\n",
       "│    └─Linear (0)                                  [2, 512]             [2, 2048]            1,050,624            True\n",
       "│    └─Mish (1)                                    [2, 2048]            [2, 2048]            --                   --\n",
       "│    └─Linear (2)                                  [2, 2048]            [2, 512]             1,049,088            True\n",
       "├─ModuleList (downs)                               --                   --                   --                   True\n",
       "│    └─ModuleList (0)                              --                   --                   --                   True\n",
       "│    │    └─ResidualTemporalBlock (0)              [2, 526, 224]        [2, 1024, 224]       9,532,416            True\n",
       "│    │    └─ResidualTemporalBlock (1)              [2, 1024, 224]       [2, 1024, 224]       11,542,528           True\n",
       "│    │    └─Identity (2)                           [2, 1024, 224]       [2, 1024, 224]       --                   --\n",
       "│    │    └─Downsample1d (3)                       [2, 1024, 224]       [2, 1024, 112]       3,146,752            True\n",
       "│    └─ModuleList (1)                              --                   --                   --                   True\n",
       "│    │    └─ResidualTemporalBlock (0)              [2, 1024, 112]       [2, 1024, 112]       11,542,528           True\n",
       "│    │    └─ResidualTemporalBlock (1)              [2, 1024, 112]       [2, 1024, 112]       11,542,528           True\n",
       "│    │    └─Identity (2)                           [2, 1024, 112]       [2, 1024, 112]       --                   --\n",
       "│    │    └─Downsample1d (3)                       [2, 1024, 112]       [2, 1024, 56]        3,146,752            True\n",
       "│    └─ModuleList (2)                              --                   --                   --                   True\n",
       "│    │    └─ResidualTemporalBlock (0)              [2, 1024, 56]        [2, 1024, 56]        11,542,528           True\n",
       "│    │    └─ResidualTemporalBlock (1)              [2, 1024, 56]        [2, 1024, 56]        11,542,528           True\n",
       "│    │    └─Identity (2)                           [2, 1024, 56]        [2, 1024, 56]        --                   --\n",
       "│    │    └─Downsample1d (3)                       [2, 1024, 56]        [2, 1024, 28]        3,146,752            True\n",
       "│    └─ModuleList (3)                              --                   --                   --                   True\n",
       "│    │    └─ResidualTemporalBlock (0)              [2, 1024, 28]        [2, 1024, 28]        11,542,528           True\n",
       "│    │    └─ResidualTemporalBlock (1)              [2, 1024, 28]        [2, 1024, 28]        11,542,528           True\n",
       "│    │    └─Identity (2)                           [2, 1024, 28]        [2, 1024, 28]        --                   --\n",
       "│    │    └─Identity (3)                           [2, 1024, 28]        [2, 1024, 28]        --                   --\n",
       "├─ResidualTemporalBlock (mid_block1)               [2, 1024, 28]        [2, 1024, 28]        --                   True\n",
       "│    └─Sequential (time_mlp)                       [2, 512]             [2, 2048, 1]         --                   True\n",
       "│    │    └─Mish (0)                               [2, 512]             [2, 512]             --                   --\n",
       "│    │    └─Linear (1)                             [2, 512]             [2, 2048]            1,050,624            True\n",
       "│    │    └─Rearrange (2)                          [2, 2048]            [2, 2048, 1]         --                   --\n",
       "│    └─ModuleList (blocks)                         --                   --                   --                   True\n",
       "│    │    └─Conv1dAdaGNBlock (0)                   [2, 1024, 28]        [2, 1024, 28]        5,245,952            True\n",
       "│    │    └─Conv1dBlock (1)                        [2, 1024, 28]        [2, 1024, 28]        5,245,952            True\n",
       "│    └─Identity (residual_conv)                    [2, 1024, 28]        [2, 1024, 28]        --                   --\n",
       "├─Identity (mid_attn)                              [2, 1024, 28]        [2, 1024, 28]        --                   --\n",
       "├─ResidualTemporalBlock (mid_block2)               [2, 1024, 28]        [2, 1024, 28]        --                   True\n",
       "│    └─Sequential (time_mlp)                       [2, 512]             [2, 2048, 1]         --                   True\n",
       "│    │    └─Mish (0)                               [2, 512]             [2, 512]             --                   --\n",
       "│    │    └─Linear (1)                             [2, 512]             [2, 2048]            1,050,624            True\n",
       "│    │    └─Rearrange (2)                          [2, 2048]            [2, 2048, 1]         --                   --\n",
       "│    └─ModuleList (blocks)                         --                   --                   --                   True\n",
       "│    │    └─Conv1dAdaGNBlock (0)                   [2, 1024, 28]        [2, 1024, 28]        5,245,952            True\n",
       "│    │    └─Conv1dBlock (1)                        [2, 1024, 28]        [2, 1024, 28]        5,245,952            True\n",
       "│    └─Identity (residual_conv)                    [2, 1024, 28]        [2, 1024, 28]        --                   --\n",
       "├─ModuleList (ups)                                 --                   --                   --                   True\n",
       "│    └─ModuleList (0)                              --                   --                   --                   True\n",
       "│    │    └─ResidualTemporalBlock (0)              [2, 2048, 28]        [2, 1024, 28]        18,883,584           True\n",
       "│    │    └─ResidualTemporalBlock (1)              [2, 1024, 28]        [2, 1024, 28]        11,542,528           True\n",
       "│    │    └─Identity (2)                           [2, 1024, 28]        [2, 1024, 28]        --                   --\n",
       "│    │    └─Upsample1d (3)                         [2, 1024, 28]        [2, 1024, 56]        4,195,328            True\n",
       "│    └─ModuleList (1)                              --                   --                   --                   True\n",
       "│    │    └─ResidualTemporalBlock (0)              [2, 2048, 56]        [2, 1024, 56]        18,883,584           True\n",
       "│    │    └─ResidualTemporalBlock (1)              [2, 1024, 56]        [2, 1024, 56]        11,542,528           True\n",
       "│    │    └─Identity (2)                           [2, 1024, 56]        [2, 1024, 56]        --                   --\n",
       "│    │    └─Upsample1d (3)                         [2, 1024, 56]        [2, 1024, 112]       4,195,328            True\n",
       "│    └─ModuleList (2)                              --                   --                   --                   True\n",
       "│    │    └─ResidualTemporalBlock (0)              [2, 2048, 112]       [2, 1024, 112]       18,883,584           True\n",
       "│    │    └─ResidualTemporalBlock (1)              [2, 1024, 112]       [2, 1024, 112]       11,542,528           True\n",
       "│    │    └─Identity (2)                           [2, 1024, 112]       [2, 1024, 112]       --                   --\n",
       "│    │    └─Upsample1d (3)                         [2, 1024, 112]       [2, 1024, 224]       4,195,328            True\n",
       "├─Sequential (final_conv)                          [2, 1024, 224]       [2, 263, 224]        --                   True\n",
       "│    └─Conv1dBlock (0)                             [2, 1024, 224]       [2, 1024, 224]       --                   True\n",
       "│    │    └─Sequential (block)                     [2, 1024, 224]       [2, 1024, 224]       5,245,952            True\n",
       "│    └─Conv1d (1)                                  [2, 1024, 224]       [2, 263, 224]        269,575              True\n",
       "==================================================================================================================================\n",
       "Total params: 234,334,983\n",
       "Trainable params: 234,334,983\n",
       "Non-trainable params: 0\n",
       "Total mult-adds (G): 36.02\n",
       "==================================================================================================================================\n",
       "Input size (MB): 0.94\n",
       "Forward/backward pass size (MB): 109.77\n",
       "Params size (MB): 937.34\n",
       "Estimated Total Size (MB): 1048.06\n",
       "=================================================================================================================================="
      ]
     },
     "execution_count": 34,
     "metadata": {},
     "output_type": "execute_result"
    }
   ],
   "source": [
    "cond = model.model.embed_timestep(timesteps).clone().detach().squeeze(0)\n",
    "unet = model.model.unet\n",
    "unet_size = (224, 2, 526)\n",
    "\n",
    "summary(\n",
    "    model=unet,\n",
    "    device=\"mps\",\n",
    "    input_size=unet_size,\n",
    "    col_names=[\"input_size\", \"output_size\", \"num_params\", \"trainable\"],\n",
    "    col_width=20,\n",
    "    row_settings=[\"var_names\"],\n",
    "    depth=3,\n",
    "    #### extra model forward kwargs ####\n",
    "    cond=cond,\n",
    ")"
   ]
  },
  {
   "cell_type": "code",
   "execution_count": 39,
   "metadata": {},
   "outputs": [
    {
     "data": {
      "text/plain": [
       "torch.Size([2, 512])"
      ]
     },
     "execution_count": 39,
     "metadata": {},
     "output_type": "execute_result"
    }
   ],
   "source": [
    "cond.shape"
   ]
  }
 ],
 "metadata": {
  "kernelspec": {
   "display_name": "condmdi",
   "language": "python",
   "name": "python3"
  },
  "language_info": {
   "codemirror_mode": {
    "name": "ipython",
    "version": 3
   },
   "file_extension": ".py",
   "mimetype": "text/x-python",
   "name": "python",
   "nbconvert_exporter": "python",
   "pygments_lexer": "ipython3",
   "version": "3.9.19"
  }
 },
 "nbformat": 4,
 "nbformat_minor": 2
}
